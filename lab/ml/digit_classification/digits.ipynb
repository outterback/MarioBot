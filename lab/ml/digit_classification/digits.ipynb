{
 "cells": [
  {
   "cell_type": "code",
   "execution_count": 1,
   "metadata": {
    "collapsed": false
   },
   "outputs": [
    {
     "name": "stdout",
     "output_type": "stream",
     "text": [
      "Welcome!\ndatasets/sprites/interface/text/digits/9.png\ndatasets/sprites/interface/text/digits/8.png\ndatasets/sprites/interface/text/digits/7.png\ndatasets/sprites/interface/text/digits/6.png\ndatasets/sprites/interface/text/digits/5.png\ndatasets/sprites/interface/text/digits/2.png\ndatasets/sprites/interface/text/digits/4.png\ndatasets/sprites/interface/text/digits/1.png\ndatasets/sprites/interface/text/digits/3.png\ndatasets/sprites/interface/text/digits/0.png\n"
     ]
    }
   ],
   "source": [
    "import numpy as np\n",
    "from pathlib import Path\n",
    "\n",
    "\n",
    "digits_dir = Path('./datasets/sprites/interface/text/digits')\n",
    "\n",
    "print('Welcome!')\n",
    "for f in digits_dir.glob('*'):\n",
    "    print(f)"
   ]
  },
  {
   "cell_type": "code",
   "execution_count": 3,
   "metadata": {
    "collapsed": true
   },
   "outputs": [
    {
     "name": "stdout",
     "output_type": "stream",
     "text": [
      "Original digits in greyscale\nshape:  (7, 7)\nshape:  (7, 7)\nshape:  (7, 7)\nshape:  (7, 7)\nshape:  (7, 7)\nshape:  (7, 7)\nshape:  (7, 7)\nshape:  (7, 7)\nshape:  (7, 7)\nshape:  (7, 7)\n"
     ]
    },
    {
     "data": {
      "image/png": "[encoded data removed]",
      "text/plain": [
       "<Figure size 1440x1440 with 10 Axes>"
      ]
     },
     "metadata": {},
     "output_type": "display_data"
    }
   ],
   "source": [
    "from matplotlib import pyplot as pl\n",
    "import cv2\n",
    "files = sorted(list(digits_dir.glob('*.png')))\n",
    "\n",
    "print('Original digits in greyscale')\n",
    "fig_size = 20\n",
    "pl.figure(figsize=(fig_size,fig_size))\n",
    "digits = {}\n",
    "for i, file in enumerate(files):\n",
    "    pl.subplot(1, 10, i+1)\n",
    "    \n",
    "    digit = cv2.imread(str(file))\n",
    "    digit = cv2.cvtColor(digit, cv2.COLOR_BGR2GRAY)\n",
    "    _ , digits[i] = cv2.threshold(digit, 250, 1, cv2.THRESH_BINARY)\n",
    "    print('shape: ', digit.shape)\n",
    "    pl.imshow(digit, cmap='gray')\n",
    "pl.show()"
   ]
  },
  {
   "cell_type": "markdown",
   "metadata": {
    "collapsed": false
   },
   "source": [
    "# Hello\n",
    "what's up"
   ]
  },
  {
   "cell_type": "code",
   "execution_count": 4,
   "metadata": {
    "collapsed": false
   },
   "outputs": [
    {
     "name": "stdout",
     "output_type": "stream",
     "text": [
      "digit:  0\n((0, 2), (0, 3), (0, 4), (1, 1), (1, 4), (1, 5), (2, 0), (2, 1), (2, 5), (2, 6), (3, 0), (3, 1), (3, 5), (3, 6), (4, 0), (4, 1), (4, 5), (4, 6), (5, 1), (5, 2), (5, 5), (6, 2), (6, 3), (6, 4))\n\ndigit:  1\n((0, 3), (0, 4), (1, 2), (1, 3), (1, 4), (2, 3), (2, 4), (3, 3), (3, 4), (4, 3), (4, 4), (5, 3), (5, 4), (6, 1), (6, 2), (6, 3), (6, 4), (6, 5), (6, 6))\n\ndigit:  2\n((0, 1), (0, 2), (0, 3), (0, 4), (0, 5), (1, 0), (1, 1), (1, 5), (1, 6), (2, 4), (2, 5), (2, 6), (3, 2), (3, 3), (3, 4), (3, 5), (4, 1), (4, 2), (4, 3), (4, 4), (5, 0), (5, 1), (5, 2), (6, 0), (6, 1), (6, 2), (6, 3), (6, 4), (6, 5), (6, 6))\n\ndigit:  3\n((0, 1), (0, 2), (0, 3), (0, 4), (0, 5), (0, 6), (1, 4), (1, 5), (2, 3), (2, 4), (3, 2), (3, 3), (3, 4), (3, 5), (4, 5), (4, 6), (5, 0), (5, 1), (5, 5), (5, 6), (6, 1), (6, 2), (6, 3), (6, 4), (6, 5))\n\ndigit:  4\n((0, 3), (0, 4), (0, 5), (1, 2), (1, 3), (1, 4), (1, 5), (2, 1), (2, 2), (2, 4), (2, 5), (3, 0), (3, 1), (3, 4), (3, 5), (4, 0), (4, 1), (4, 2), (4, 3), (4, 4), (4, 5), (4, 6), (5, 4), (5, 5), (6, 4), (6, 5))\n\ndigit:  5\n((0, 0), (0, 1), (0, 2), (0, 3), (0, 4), (0, 5), (1, 0), (1, 1), (2, 0), (2, 1), (2, 2), (2, 3), (2, 4), (2, 5), (3, 5), (3, 6), (4, 5), (4, 6), (5, 0), (5, 1), (5, 5), (5, 6), (6, 1), (6, 2), (6, 3), (6, 4), (6, 5))\n\ndigit:  6\n((0, 2), (0, 3), (0, 4), (0, 5), (1, 1), (1, 2), (2, 0), (2, 1), (3, 0), (3, 1), (3, 2), (3, 3), (3, 4), (3, 5), (4, 0), (4, 1), (4, 5), (4, 6), (5, 0), (5, 1), (5, 5), (5, 6), (6, 1), (6, 2), (6, 3), (6, 4), (6, 5))\n\ndigit:  7\n((0, 0), (0, 1), (0, 2), (0, 3), (0, 4), (0, 5), (0, 6), (1, 0), (1, 1), (1, 5), (1, 6), (2, 4), (2, 5), (3, 3), (3, 4), (4, 2), (4, 3), (5, 2), (5, 3), (6, 2), (6, 3))\n\ndigit:  8\n((0, 1), (0, 2), (0, 3), (0, 4), (0, 5), (1, 0), (1, 1), (1, 5), (1, 6), (2, 0), (2, 1), (2, 5), (2, 6), (3, 1), (3, 2), (3, 3), (3, 4), (3, 5), (4, 0), (4, 1), (4, 5), (4, 6), (5, 0), (5, 1), (5, 5), (5, 6), (6, 1), (6, 2), (6, 3), (6, 4), (6, 5))\n\ndigit:  9\n((0, 1), (0, 2), (0, 3), (0, 4), (0, 5), (1, 0), (1, 1), (1, 5), (1, 6), (2, 0), (2, 1), (2, 5), (2, 6), (3, 1), (3, 2), (3, 3), (3, 4), (3, 5), (3, 6), (4, 5), (4, 6), (5, 4), (5, 5), (6, 1), (6, 2), (6, 3), (6, 4))\n\n"
     ]
    }
   ],
   "source": [
    "digit_ind = {}\n",
    "digit_rev_ind = {}\n",
    "for digit, digit_repr in digits.items():\n",
    "    print('digit: ',digit)\n",
    "    # print('representation')\n",
    "    #print(digit_repr)\n",
    "    d = tuple(sorted(\n",
    "            zip(*np.where(digit_repr == 1))\n",
    "            ))\n",
    "    \n",
    "    print(d)\n",
    "    digit_ind[digit] = d\n",
    "    digit_rev_ind[d] = digit\n",
    "    print()\n"
   ]
  },
  {
   "cell_type": "code",
   "execution_count": 5,
   "metadata": {
    "collapsed": false
   },
   "outputs": [
    {
     "name": "stdout",
     "output_type": "stream",
     "text": [
      "1 0 0 0 0 0 0 0 0 0\n0 1 0 0 0 0 0 0 0 0\n0 0 1 0 0 0 0 0 0 0\n0 0 0 1 0 0 0 0 0 0\n0 0 0 0 1 0 0 0 0 0\n0 0 0 0 0 1 0 0 0 0\n0 0 0 0 0 0 1 0 0 0\n0 0 0 0 0 0 0 1 0 0\n0 0 0 0 0 0 0 0 1 0\n0 0 0 0 0 0 0 0 0 1\nTrue\nFalse\nFalse\n"
     ]
    }
   ],
   "source": [
    "test =  [   \n",
    "    [str(int(x == y)) for y in digit_ind.values()]\n",
    "    for x in digit_ind.values() \n",
    "] \n",
    "for t in test:\n",
    "    print(' '.join(t))\n",
    "\n",
    "print((0, 1) == (0, 1))\n",
    "print((0, 1) == (1, 0))\n",
    "print((0,) == (0, 0))"
   ]
  },
  {
   "cell_type": "code",
   "execution_count": null,
   "metadata": {
    "collapsed": false
   },
   "outputs": [
    {
     "name": "stdout",
     "output_type": "stream",
     "text": [
      "1 0 0 0 0 0 0 0 0 0\n0 1 0 0 0 0 0 0 0 0\n0 0 1 0 0 0 0 0 0 0\n0 0 0 1 0 0 0 0 0 0\n0 0 0 0 1 0 0 0 0 0\n0 0 0 0 0 1 0 0 0 0\n0 0 0 0 0 0 1 0 0 0\n0 0 0 0 0 0 0 1 0 0\n0 0 0 0 0 0 0 0 1 0\n0 0 0 0 0 0 0 0 0 1\nTrue\nFalse\nFalse\n"
     ]
    }
   ],
   "source": [
    "\n",
    "\n",
    "from matplotlib import pyplot as pl\n",
    "\n",
    "\n",
    "import cv2\n",
    "\n",
    "print('Rescaled versions')\n",
    "fig_size = 30\n",
    "\n",
    "for pix_val in range(2,7):\n",
    "    num_pixels = []\n",
    "    pl.figure(figsize=(fig_size,fig_size))\n",
    "    for i, file in enumerate(files):\n",
    "        col = i % 5    \n",
    "        row = int((i - col)/5)\n",
    "        pl.subplot(1, 10, i+1)\n",
    "        \n",
    "        dp = cv2.imread(str(file))\n",
    "        dp = cv2.cvtColor(dp, cv2.COLOR_BGR2GRAY)\n",
    "        thresh, dp = cv2.threshold(dp, 250, 255, cv2.THRESH_BINARY, dp)\n",
    "        dp = cv2.resize(dp, dsize=(pix_val-1, pix_val), interpolation=cv2.INTER_NEAREST)\n",
    "        pl.imshow(dp, cmap='gray')\n",
    "        num_pixels.append(int(dp.sum()/255))\n",
    "    \n",
    "    print(num_pixels, len(num_pixels), len(set(num_pixels)))\n",
    "    pl.show()\n"
   ]
  },
  {
   "cell_type": "code",
   "execution_count": 5,
   "metadata": {
    "collapsed": true
   },
   "outputs": [
    {
     "name": "stdout",
     "output_type": "stream",
     "text": [
      "predicted: [0]  true: 0  same: [ True], 24\npredicted: [1]  true: 1  same: [ True], 19\npredicted: [2]  true: 2  same: [ True], 30\npredicted: [3]  true: 3  same: [ True], 25\npredicted: [4]  true: 4  same: [ True], 26\npredicted: [5]  true: 5  same: [ True], 27\npredicted: [6]  true: 6  same: [ True], 27\npredicted: [7]  true: 7  same: [ True], 21\npredicted: [8]  true: 8  same: [ True], 31\npredicted: [9]  true: 9  same: [ True], 27\n[  0 255 255 255 255 255   0 255 255   0   0   0 255 255 255 255   0   0\n   0 255 255   0 255 255 255 255 255 255   0   0   0   0   0 255 255   0\n   0   0   0 255 255   0   0 255 255 255 255   0   0]\n"
     ]
    },
    {
     "data": {
      "image/png": "[encoded data removed]",
      "text/plain": [
       "<Figure size 2160x2160 with 10 Axes>"
      ]
     },
     "metadata": {},
     "output_type": "display_data"
    }
   ],
   "source": [
    "from sklearn import tree\n",
    "import numpy as np\n",
    "\n",
    "files = sorted(list(digits_dir.glob('*.png')))\n",
    "\n",
    "classifier = tree.DecisionTreeClassifier()\n",
    "\n",
    "x = []\n",
    "y = []\n",
    "\n",
    "fig_size=30\n",
    "pl.figure(1, (fig_size, fig_size))\n",
    "\n",
    "for i, file in enumerate(files):\n",
    "    dp = cv2.imread(str(file))\n",
    "    dp = cv2.cvtColor(dp, cv2.COLOR_BGR2GRAY)\n",
    "    thresh, dp = cv2.threshold(dp, 245, 255, cv2.THRESH_BINARY)\n",
    "    #dp = cv2.resize(dp, dsize=(1, 5), interpolation=cv2.INTER_NEAREST)\n",
    "    x.append(dp.flatten())\n",
    "    y.append(i)\n",
    "    \n",
    "    pl.subplot(1, 10, i+1)\n",
    "    pl.imshow(dp, cmap='gray')\n",
    "\n",
    "classifier.fit(x, y)\n",
    "\n",
    "for x_samp, y_samp in zip(x, y):\n",
    "    pred = classifier.predict([x_samp])\n",
    "    label = y_samp\n",
    "    print(f'predicted: {pred}  true: {label}  same: {pred == label}, {int(sum(x_samp)/255)}')\n",
    "\n",
    "print(x_samp)\n"
   ]
  },
  {
   "cell_type": "code",
   "execution_count": 6,
   "metadata": {},
   "outputs": [],
   "source": [
    "import pickle\n",
    "classifier\n",
    "with open('./lab/ml/digit_classifier.pkl', 'wb') as p:\n",
    "    pickle.dump(classifier, p)"
   ]
  },
  {
   "cell_type": "code",
   "execution_count": 121,
   "metadata": {},
   "outputs": [
    {
     "name": "stdout",
     "output_type": "stream",
     "text": [
      "0 0 0\n1 1 0\n2 2 0\n3 3 0\n4 4 0\n5 5 0\n6 6 0\n7 7 0\n8 8 0\n9 9 0\n"
     ]
    },
    {
     "data": {
      "text/plain": [
       "<Figure size 1440x1440 with 0 Axes>"
      ]
     },
     "execution_count": 0,
     "metadata": {},
     "output_type": "execute_result"
    }
   ],
   "source": [
    "from itertools import product\n",
    "orig_size = (7,7)\n",
    "size = 12\n",
    "x_mod = [cv2.resize(y.reshape(orig_size), (3,4), interpolation=cv2.INTER_NEAREST).flatten() for y in x]\n",
    "x_mod = [(y//255) for y in x_mod]\n",
    "x_a = np.array(x_mod)\n",
    "\n",
    "fig_size = 20\n",
    "pl.figure(1, (fig_size, fig_size))\n",
    "DO_PLOT = False\n",
    "for i, j in product(range(10), range(10)):\n",
    "    diff = (x_a[i] - x_a[j])\n",
    "    if DO_PLOT:\n",
    "        pl.subplot(10, 10, (10*j)+i+1)\n",
    "        pl.imshow(diff.reshape(2,2), cmap='gray')\n",
    "    if sum(diff) == 0:\n",
    "        print(i, j, sum(diff))\n",
    "        "
   ]
  },
  {
   "cell_type": "code",
   "execution_count": 123,
   "metadata": {},
   "outputs": [
    {
     "name": "stdout",
     "output_type": "stream",
     "text": [
      "0\nrepr:  011001100010 integer:  1634\n1\nrepr:  001011001001 integer:  713\n2\nrepr:  011100011110 integer:  1822\n3\nrepr:  011001011100 integer:  1628\n4\nrepr:  001011101001 integer:  745\n5\nrepr:  111100000100 integer:  3844\n6\nrepr:  011010111100 integer:  1724\n7\nrepr:  111100001010 integer:  3850\n8\nrepr:  011100011100 integer:  1820\n9\nrepr:  011100011001 integer:  1817\n"
     ]
    }
   ],
   "source": [
    "oracle = dict()\n",
    "for digit, digit_img in enumerate(x_a):\n",
    "    print(digit)\n",
    "    digit_repr = \"\".join(map(str, digit_img))\n",
    "    print('repr: ', digit_repr, 'integer: ', int(digit_repr, 2))\n",
    "    oracle[digit_repr] = digit"
   ]
  },
  {
   "cell_type": "code",
   "execution_count": 124,
   "metadata": {},
   "outputs": [
    {
     "name": "stdout",
     "output_type": "stream",
     "text": [
      "{'011001100010': 0, '001011001001': 1, '011100011110': 2, '011001011100': 3, '001011101001': 4, '111100000100': 5, '011010111100': 6, '111100001010': 7, '011100011100': 8, '011100011001': 9}\n"
     ]
    }
   ],
   "source": [
    "print(oracle)"
   ]
  },
  {
   "cell_type": "code",
   "execution_count": null,
   "metadata": {},
   "outputs": [],
   "source": []
  }
 ],
 "metadata": {
  "kernelspec": {
   "display_name": "Python 2",
   "language": "python",
   "name": "python2"
  },
  "language_info": {
   "codemirror_mode": {
    "name": "ipython",
    "version": 2
   },
   "file_extension": ".py",
   "mimetype": "text/x-python",
   "name": "python",
   "nbconvert_exporter": "python",
   "pygments_lexer": "ipython2",
   "version": "2.7.6"
  }
 },
 "nbformat": 4,
 "nbformat_minor": 0
}
