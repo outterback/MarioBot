{
 "cells": [
  {
   "cell_type": "code",
   "execution_count": 18,
   "metadata": {
    "collapsed": true
   },
   "outputs": [
    {
     "name": "stdout",
     "output_type": "stream",
     "text": [
      "[[[153  75  12 255]\n  [153  75  12 255]\n  [153  75  12 255]\n  [153  75  12 255]\n  [153  75  12 255]\n  [153  75  12 255]\n  [153  75  12 255]]\n\n [[255 200 184 255]\n  [255 200 184 255]\n  [153  75  12 255]\n  [153  75  12 255]\n  [153  75  12 255]\n  [153  75  12 255]\n  [153  75  12   0]]\n\n [[255 200 184 255]\n  [255 200 184 255]\n  [255 200 184 255]\n  [153  75  12   0]\n  [153  75  12   0]\n  [153  75  12   0]\n  [153  75  12   0]]\n\n [[255 200 184 255]\n  [255 200 184 255]\n  [255 200 184 255]\n  [  0   0   0   0]\n  [  0   0   0   0]\n  [153  75  12   0]\n  [153  75  12   0]]\n\n [[255 200 184 255]\n  [255 200 184 255]\n  [  0   0   0 255]\n  [  0   0   0 255]\n  [  0   0   0   0]\n  [  0   0   0   0]\n  [  0   0   0   0]]\n\n [[255 200 184 255]\n  [  0   0   0 255]\n  [  0   0   0 255]\n  [  0   0   0 255]\n  [  0   0   0   0]\n  [  0   0   0   0]\n  [  0   0   0   0]]\n\n [[  0   0   0 255]\n  [  0   0   0 255]\n  [  0   0   0 255]\n  [  0   0   0   0]\n  [  0   0   0   0]\n  [  0   0   0   0]\n  [  0   0   0   0]]]\n(128, 808, 4)\n"
     ]
    },
    {
     "data": {
      "text/plain": [
       "<matplotlib.image.AxesImage at 0x7fd398452f98>"
      ]
     },
     "execution_count": 18,
     "metadata": {},
     "output_type": "execute_result"
    },
    {
     "data": {
      "image/png": "[encoded data removed]",
      "text/plain": [
       "<Figure size 432x288 with 1 Axes>"
      ]
     },
     "metadata": {},
     "output_type": "display_data"
    }
   ],
   "source": [
    "import numpy as np\n",
    "from pathlib import Path\n",
    "from matplotlib import pyplot as pl\n",
    "import cv2\n",
    "\n",
    "p_enemies = Path('./datasets/sprites/characters/enemies.png')\n",
    "enemies = cv2.imread(str(p_enemies), cv2.IMREAD_UNCHANGED)\n",
    "enemies = cv2.cvtColor(enemies, cv2.COLOR_BGRA2RGBA)\n",
    "print(enemies.shape)\n",
    "pl.imshow(enemies[0:40, 0:40])\n"
   ]
  },
  {
   "cell_type": "code",
   "execution_count": null,
   "metadata": {},
   "outputs": [],
   "source": []
  }
 ],
 "metadata": {
  "kernelspec": {
   "display_name": "Python 2",
   "language": "python",
   "name": "python2"
  },
  "language_info": {
   "codemirror_mode": {
    "name": "ipython",
    "version": 2
   },
   "file_extension": ".py",
   "mimetype": "text/x-python",
   "name": "python",
   "nbconvert_exporter": "python",
   "pygments_lexer": "ipython2",
   "version": "2.7.6"
  }
 },
 "nbformat": 4,
 "nbformat_minor": 0
}
